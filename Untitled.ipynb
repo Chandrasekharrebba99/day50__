{
 "cells": [
  {
   "cell_type": "code",
   "execution_count": 1,
   "id": "e6f12feb",
   "metadata": {},
   "outputs": [
    {
     "name": "stdout",
     "output_type": "stream",
     "text": [
      "Helo word\n"
     ]
    }
   ],
   "source": [
    "print(\"Helo word\")"
   ]
  },
  {
   "cell_type": "code",
   "execution_count": 11,
   "id": "a29b68b8",
   "metadata": {},
   "outputs": [
    {
     "name": "stdout",
     "output_type": "stream",
     "text": [
      "32\n",
      "1221\n",
      "456\n"
     ]
    }
   ],
   "source": [
    "class Node:\n",
    "    def __init__(self,data):\n",
    "        self.data = data\n",
    "        self.next = None\n",
    "\n",
    "class Linkedlist:\n",
    "    def __init__(self):\n",
    "        self.head = None\n",
    "    def insert(self,newNode):\n",
    "        if self.head is None:\n",
    "            self.head = newNode\n",
    "        else:\n",
    "            lastNode = self.head\n",
    "            while True:\n",
    "                if lastNode.next is  None:\n",
    "                    break\n",
    "                lastNode = lastNode.next\n",
    "            lastNode.next = newNode\n",
    "            \n",
    "    def printLL(self):\n",
    "        if self.head is None:\n",
    "            print(\"Your Linked list empty:\")\n",
    "        else:\n",
    "            currentNode = self.head\n",
    "            while True:\n",
    "                if currentNode is None:\n",
    "                    break\n",
    "                print(currentNode.data)\n",
    "                currentNode = currentNode.next\n",
    "                \n",
    "                \n",
    "s0 = Node(32)\n",
    "linkedlist = Linkedlist()\n",
    "linkedlist.insert(s0)\n",
    "            \n",
    "s1 = Node(1221)\n",
    "linkedlist.insert(s1)\n",
    "\n",
    "s2 = Node(456)\n",
    "linkedlist.insert(s2)\n",
    "\n",
    "linkedlist.printLL()"
   ]
  },
  {
   "cell_type": "code",
   "execution_count": 12,
   "id": "7db8e63a",
   "metadata": {},
   "outputs": [
    {
     "name": "stdout",
     "output_type": "stream",
     "text": [
      "123\n",
      "1231\n",
      "124\n",
      "1212\n"
     ]
    }
   ],
   "source": [
    "class Node:\n",
    "    def __init__(self,data):\n",
    "        self.data = data\n",
    "        self.next = None\n",
    "class Linkedlist:\n",
    "    def __init__(self):\n",
    "        self.head = None\n",
    "    def insert(self,newNode):\n",
    "        if self.head is None:\n",
    "            self.head = newNode\n",
    "        else:\n",
    "            currentNode = self.head\n",
    "            while True:\n",
    "                if currentNode.next is None:\n",
    "                    break\n",
    "                currentNode = currentNode.next\n",
    "            currentNode.next = newNode\n",
    "            \n",
    "    def PrintLL(self):\n",
    "        if self.head is None:\n",
    "            print(\"Your LL is Empty:\")\n",
    "        else:\n",
    "            currentNode = self.head\n",
    "            while True:\n",
    "                if currentNode is None:\n",
    "                    break\n",
    "                print(currentNode.data)\n",
    "                currentNode = currentNode.next\n",
    "        \n",
    "        \n",
    "s0 = Node(\"123\")\n",
    "ll = Linkedlist()\n",
    "ll.insert(s0)\n",
    "\n",
    "s1 = Node(1231)\n",
    "ll.insert(s1)\n",
    "\n",
    "s2 = Node(124)\n",
    "ll.insert(s2)\n",
    "\n",
    "s3 = Node(1212)\n",
    "ll.insert(s3)\n",
    "\n",
    "ll.PrintLL()"
   ]
  },
  {
   "cell_type": "code",
   "execution_count": 14,
   "id": "620f3fa3",
   "metadata": {},
   "outputs": [
    {
     "ename": "AttributeError",
     "evalue": "'Linkedlist' object has no attribute 'PrintLL'",
     "output_type": "error",
     "traceback": [
      "\u001b[1;31m---------------------------------------------------------------------------\u001b[0m",
      "\u001b[1;31mAttributeError\u001b[0m                            Traceback (most recent call last)",
      "\u001b[1;32m~\\AppData\\Local\\Temp/ipykernel_11720/737289258.py\u001b[0m in \u001b[0;36m<module>\u001b[1;34m\u001b[0m\n\u001b[0;32m     38\u001b[0m \u001b[0mll\u001b[0m\u001b[1;33m.\u001b[0m\u001b[0minsert\u001b[0m\u001b[1;33m(\u001b[0m\u001b[0ms2\u001b[0m\u001b[1;33m)\u001b[0m\u001b[1;33m\u001b[0m\u001b[1;33m\u001b[0m\u001b[0m\n\u001b[0;32m     39\u001b[0m \u001b[1;33m\u001b[0m\u001b[0m\n\u001b[1;32m---> 40\u001b[1;33m \u001b[0mll\u001b[0m\u001b[1;33m.\u001b[0m\u001b[0mPrintLL\u001b[0m\u001b[1;33m(\u001b[0m\u001b[1;33m)\u001b[0m\u001b[1;33m\u001b[0m\u001b[1;33m\u001b[0m\u001b[0m\n\u001b[0m",
      "\u001b[1;31mAttributeError\u001b[0m: 'Linkedlist' object has no attribute 'PrintLL'"
     ]
    }
   ],
   "source": [
    "class Node:\n",
    "    def __init__(self,data):\n",
    "        self.data = data\n",
    "        self.next = None\n",
    "class Linkedlist:\n",
    "    def __init__(self):\n",
    "        self.head = None\n",
    "        \n",
    "    def insert(self,newNode):\n",
    "        if self.head is None:\n",
    "            self.head = newNode\n",
    "        else:\n",
    "            lastNode = self.head\n",
    "            while True:\n",
    "                if lastNode.next is None:\n",
    "                    break\n",
    "                lastNode = lastNode.next\n",
    "            lastNode.next = newNode\n",
    "            \n",
    "    def printLL(self):\n",
    "        if self.head is None:\n",
    "            print(\"Linkedlist is empty\")\n",
    "        else:\n",
    "            currentNode =self.head\n",
    "            while True:\n",
    "                if currentNode  is None:\n",
    "                    break\n",
    "                print(currentNode.data)\n",
    "                currentNode = currentNode.next\n",
    "                \n",
    "s0 = Node(123)\n",
    "ll = Linkedlist()\n",
    "ll.insert(s0)\n",
    "\n",
    "\n",
    "s1 = Node(13423)\n",
    "ll.insert(s1)\n",
    "\n",
    "s2 = Node(423)\n",
    "ll.insert(s2)\n",
    "\n",
    "ll.PrintLL()"
   ]
  },
  {
   "cell_type": "code",
   "execution_count": 3,
   "id": "18eb9dd2",
   "metadata": {},
   "outputs": [
    {
     "data": {
      "text/plain": [
       "16"
      ]
     },
     "execution_count": 3,
     "metadata": {},
     "output_type": "execute_result"
    }
   ],
   "source": [
    "def fun(num):\n",
    "    \n",
    "    sumi = 0\n",
    "    num1 = str(num)\n",
    "    for i in range(len(num1)):\n",
    "        sumi = sumi+int(num1[i])\n",
    "    return sumi\n",
    "x = 23434\n",
    "fun(x)"
   ]
  },
  {
   "cell_type": "code",
   "execution_count": 4,
   "id": "d5de8a0c",
   "metadata": {},
   "outputs": [
    {
     "data": {
      "text/plain": [
       "16"
      ]
     },
     "execution_count": 4,
     "metadata": {},
     "output_type": "execute_result"
    }
   ],
   "source": [
    "2+3+4+3+4"
   ]
  },
  {
   "cell_type": "code",
   "execution_count": 8,
   "id": "92edaa6e",
   "metadata": {},
   "outputs": [
    {
     "data": {
      "text/plain": [
       "120"
      ]
     },
     "execution_count": 8,
     "metadata": {},
     "output_type": "execute_result"
    }
   ],
   "source": [
    "#factorial in a loop\n",
    "def fact(num):\n",
    "    sumi = 1\n",
    "    for i in range(1,num+1):\n",
    "        sumi = sumi*i\n",
    "    return sumi\n",
    "fact(5)\n",
    "\n"
   ]
  },
  {
   "cell_type": "code",
   "execution_count": 13,
   "id": "bfdcd68f",
   "metadata": {},
   "outputs": [
    {
     "data": {
      "text/plain": [
       "120"
      ]
     },
     "execution_count": 13,
     "metadata": {},
     "output_type": "execute_result"
    }
   ],
   "source": [
    "def fact(num):\n",
    "    if num == 1:\n",
    "        return 1\n",
    "    else:\n",
    "        return num*fact(num-1)\n",
    "    \n",
    "fact(5)"
   ]
  },
  {
   "cell_type": "code",
   "execution_count": 15,
   "id": "28afc54f",
   "metadata": {},
   "outputs": [],
   "source": [
    "def prime(X,Y):\n",
    "    flag = True\n",
    "    for i in range(X,Y):\n",
    "        for j in range(1,(i//2)+1):\n",
    "            if(i%j == 0):\n",
    "                flag = False\n",
    "                break\n",
    "    if flag == True:\n",
    "        print(i)\n",
    "            \n",
    "prime(2,20)"
   ]
  },
  {
   "cell_type": "code",
   "execution_count": 29,
   "id": "7a275758",
   "metadata": {},
   "outputs": [
    {
     "name": "stdout",
     "output_type": "stream",
     "text": [
      "prime\n"
     ]
    }
   ],
   "source": [
    "def checkprime(num):\n",
    "    flag = True\n",
    "    for i in range(1,(num//2)+1):\n",
    "        if num%i==0:\n",
    "            flag = False\n",
    "            break\n",
    "    if flag:\n",
    "        print(\"not Prime\")\n",
    "    else:\n",
    "        print(\"prime\")\n",
    "        \n",
    "checkprime(4)"
   ]
  },
  {
   "cell_type": "code",
   "execution_count": null,
   "id": "80ac3445",
   "metadata": {},
   "outputs": [],
   "source": [
    "#GCD\n",
    "def GCD(X,Y):\n",
    "    mini = min(X,Y)\n",
    "    l = []\n",
    "    for i in range(1,minimum+1):\n",
    "        "
   ]
  }
 ],
 "metadata": {
  "kernelspec": {
   "display_name": "Python 3 (ipykernel)",
   "language": "python",
   "name": "python3"
  },
  "language_info": {
   "codemirror_mode": {
    "name": "ipython",
    "version": 3
   },
   "file_extension": ".py",
   "mimetype": "text/x-python",
   "name": "python",
   "nbconvert_exporter": "python",
   "pygments_lexer": "ipython3",
   "version": "3.9.7"
  }
 },
 "nbformat": 4,
 "nbformat_minor": 5
}
